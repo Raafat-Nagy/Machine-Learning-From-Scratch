{
  "cells": [
    {
      "cell_type": "markdown",
      "metadata": {
        "id": "WVKFaWQvieGN"
      },
      "source": [
        "## **Classification Metrics**"
      ]
    },
    {
      "cell_type": "markdown",
      "metadata": {
        "id": "k6MqMaDDieGb"
      },
      "source": [
        "This notebook demonstrates how to evaluate the performance of a binary classification model using common metrics such as **Confusion Matrix**, **Accuracy**, **Precision**, **Recall**, **F1 Score**, and **F-beta Score**."
      ]
    },
    {
      "cell_type": "markdown",
      "metadata": {
        "id": "QalRUuiSieGd"
      },
      "source": [
        "### **Example Data**"
      ]
    },
    {
      "cell_type": "code",
      "execution_count": null,
      "metadata": {
        "id": "aXZD7h2dieGf"
      },
      "outputs": [],
      "source": [
        "y_true = [1, 1, 0, 1, 0, 1, 0, 1, 0, 0, 1]\n",
        "y_pred = [1, 0, 0, 1, 0, 1, 1, 1, 0, 1, 1]"
      ]
    },
    {
      "cell_type": "markdown",
      "metadata": {
        "id": "7FNDKW5VieGl"
      },
      "source": [
        "### **Confusion Matrix**"
      ]
    },
    {
      "cell_type": "markdown",
      "source": [
        "\n",
        "#### What is a Confusion Matrix?\n",
        "\n",
        "A **confusion matrix** is a table used to describe the performance of a classification model. It shows the counts of:\n",
        "\n",
        "* **True Positives (TP):** Correctly predicted positive classes.\n",
        "* **True Negatives (TN):** Correctly predicted negative classes.\n",
        "* **False Positives (FP):** Negative classes incorrectly predicted as positive.\n",
        "* **False Negatives (FN):** Positive classes incorrectly predicted as negative.\n",
        "\n",
        "<br>\n",
        "\n",
        "#### Structure of a Confusion Matrix\n",
        "\n",
        "For a **binary classification problem with two classes (Positive and Negative)**, the confusion matrix looks like this:\n",
        "\n",
        "![confusion_matrix](https://www.insidealgorithms.com/wp-content/uploads/2024/09/Confusion-matrix-featured_image.png)\n",
        "\n",
        "* **Rows:** Represent the **actual classes**.\n",
        "* **Columns:** Represent the **predicted classes**.\n",
        "\n",
        "---"
      ],
      "metadata": {
        "id": "sQfby3Kz7S0b"
      }
    },
    {
      "cell_type": "code",
      "execution_count": null,
      "metadata": {
        "id": "gTz4kWTPieGr"
      },
      "outputs": [],
      "source": [
        "from sklearn.metrics import confusion_matrix\n",
        "import matplotlib.pyplot as plt\n",
        "import seaborn as sns"
      ]
    },
    {
      "cell_type": "code",
      "execution_count": null,
      "metadata": {
        "id": "O6xKsEJ3ieGs",
        "outputId": "2f5fe43c-155f-4539-8510-67a5172080fa"
      },
      "outputs": [
        {
          "name": "stdout",
          "output_type": "stream",
          "text": [
            "Confusion Matrix:\n",
            " [[3 2]\n",
            " [1 5]]\n",
            "\n",
            "TN  FP  FN  TP\n",
            "3   2   1   5\n"
          ]
        }
      ],
      "source": [
        "# Compute the confusion matrix\n",
        "cm = confusion_matrix(y_true, y_pred)\n",
        "print(\"Confusion Matrix:\\n\", cm)\n",
        "\n",
        "tn, fp, fn, tp = cm.ravel()\n",
        "print(\"\\nTN  FP  FN  TP\")\n",
        "print(f\"{tn}   {fp}   {fn}   {tp}\")"
      ]
    },
    {
      "cell_type": "code",
      "execution_count": null,
      "metadata": {
        "id": "4EcbqH06ieGx",
        "outputId": "2a65d689-19c5-40a1-c6d2-46a099fe815d"
      },
      "outputs": [
        {
          "data": {
            "image/png": "[encoded data removed]",
            "text/plain": [
              "<Figure size 640x480 with 2 Axes>"
            ]
          },
          "metadata": {},
          "output_type": "display_data"
        }
      ],
      "source": [
        "# Plot the confusion matrix\n",
        "sns.heatmap(cm, annot=True, fmt=\"d\", cmap=\"Blues\")\n",
        "plt.title(\"Confusion Matrix\")\n",
        "plt.xlabel(\"Predicted\")\n",
        "plt.ylabel(\"Actual\")\n",
        "plt.show()"
      ]
    },
    {
      "cell_type": "markdown",
      "metadata": {
        "id": "SAkABpXyieGz"
      },
      "source": [
        "\n",
        "---\n"
      ]
    },
    {
      "cell_type": "markdown",
      "metadata": {
        "id": "Zq1pKWGhieG0"
      },
      "source": [
        "\n",
        "### **Accuracy**\n"
      ]
    },
    {
      "cell_type": "markdown",
      "metadata": {
        "id": "s3Zcsp6qieG1"
      },
      "source": [
        "- **Accuracy:** measures the proportion of `Correctly Predicted Instances` out of the `Total Instances`.\n",
        "- Out of all the cases, how many did the model predict correctly overall?\n",
        "\n",
        "<br>\n",
        "\n",
        "$$\n",
        "\\text{Accuracy} = \\frac{\\text{Correct Predictions}}{\\text{Total Predictions}} = \\frac{TP + TN}{TP + TN + FP + FN}\n",
        "$$\n"
      ]
    },
    {
      "cell_type": "code",
      "execution_count": null,
      "metadata": {
        "id": "OcRIEQ6KieG1",
        "outputId": "8bd511d9-174b-4b2d-dd07-f7d5b00d324e"
      },
      "outputs": [
        {
          "name": "stdout",
          "output_type": "stream",
          "text": [
            "Accuracy: 0.7272727272727273\n"
          ]
        }
      ],
      "source": [
        "from sklearn.metrics import accuracy_score\n",
        "\n",
        "accuracy = accuracy_score(y_true, y_pred)\n",
        "print(\"Accuracy:\", accuracy)"
      ]
    },
    {
      "cell_type": "markdown",
      "metadata": {
        "id": "1x2o3kGHieG3"
      },
      "source": [
        "\n",
        "---\n"
      ]
    },
    {
      "cell_type": "markdown",
      "metadata": {
        "id": "qmHIBW5qieG4"
      },
      "source": [
        "\n",
        "### **Precision**\n"
      ]
    },
    {
      "cell_type": "markdown",
      "metadata": {
        "id": "6wcw70H9ieG4"
      },
      "source": [
        "- **Precision:** The proportion of `Correctly Predicted Positives` out of `All Predicted Positives`.\n",
        "\n",
        "- Out of all the cases the model predicted as “Positive”, how many were actually correct ?\n",
        "\n",
        "<br>\n",
        "\n",
        "$$\n",
        "\\text{Precision} = \\frac{\\text{Correctly Predicted Positives}}{\\text{Total Predicted Positives}} = \\frac{TP}{TP + FP}\n",
        "$$"
      ]
    },
    {
      "cell_type": "code",
      "execution_count": null,
      "metadata": {
        "id": "O4AXhEMWieG5",
        "outputId": "bf006d78-4371-4b60-f8df-94f38fbc44cb"
      },
      "outputs": [
        {
          "name": "stdout",
          "output_type": "stream",
          "text": [
            "Precision: 0.7142857142857143\n"
          ]
        }
      ],
      "source": [
        "from sklearn.metrics import precision_score\n",
        "\n",
        "precision = precision_score(y_true, y_pred)\n",
        "print(\"Precision:\", precision)"
      ]
    },
    {
      "cell_type": "markdown",
      "metadata": {
        "id": "S9v9bMAFieG6"
      },
      "source": [
        "\n",
        "---\n"
      ]
    },
    {
      "cell_type": "markdown",
      "metadata": {
        "id": "NVIqndjUieG7"
      },
      "source": [
        "\n",
        "### **Recall (Sensitivity)**\n"
      ]
    },
    {
      "cell_type": "markdown",
      "metadata": {
        "id": "d6BvHRCiieG8"
      },
      "source": [
        "* **Recall:** The proportion of `Correctly Predicted Positives` out of `All Actual Positives`.\n",
        "\n",
        "* Out of all the real “Positive” cases, how many did the model manage to find ?\n",
        "\n",
        "<br>\n",
        "\n",
        "$$\n",
        "\\text{Recall} = \\frac{\\text{Correctly Predicted Positives}}{\\text{Total Actual Positives}} = \\frac{TP}{TP + FN}\n",
        "$$\n"
      ]
    },
    {
      "cell_type": "code",
      "execution_count": null,
      "metadata": {
        "id": "Ez_MbhouieG8",
        "outputId": "41fe035e-8404-490d-8e68-e853c67b80e8"
      },
      "outputs": [
        {
          "name": "stdout",
          "output_type": "stream",
          "text": [
            "Recall: 0.8333333333333334\n"
          ]
        }
      ],
      "source": [
        "from sklearn.metrics import recall_score\n",
        "\n",
        "recall = recall_score(y_true, y_pred)\n",
        "print(\"Recall:\", recall)"
      ]
    },
    {
      "cell_type": "markdown",
      "source": [
        "---"
      ],
      "metadata": {
        "id": "Xd1RFt6XudzU"
      }
    },
    {
      "cell_type": "markdown",
      "source": [
        "### **Precision, Recall**"
      ],
      "metadata": {
        "id": "IEWlL2wuuhnm"
      }
    },
    {
      "cell_type": "markdown",
      "source": [
        "$$\n",
        "\\text{Precision} = \\frac{\\text{Correctly Predicted Positives}}{\\text{Total Predicted Positives}} = \\frac{TP}{TP + FP}\n",
        "$$\n",
        "\n",
        "<br>\n",
        "\n",
        "$$\n",
        "\\text{Recall} = \\frac{\\text{Correctly Predicted Positives}}{\\text{Total Actual Positives}} = \\frac{TP}{TP + FN}\n",
        "$$\n"
      ],
      "metadata": {
        "id": "9E_2156pvLBe"
      }
    },
    {
      "cell_type": "markdown",
      "source": [
        "![Precision_Recall](https://i0.wp.com/spotintelligence.com/wp-content/uploads/2024/04/precision-recall.jpg)"
      ],
      "metadata": {
        "id": "GoV-XB-iuR9y"
      }
    },
    {
      "cell_type": "markdown",
      "metadata": {
        "id": "yzQsZYqWieG9"
      },
      "source": [
        "\n",
        "\n",
        "---\n"
      ]
    },
    {
      "cell_type": "markdown",
      "metadata": {
        "id": "Ep6CHXA-ieG-"
      },
      "source": [
        "\n",
        "### **F1 Score**\n"
      ]
    },
    {
      "cell_type": "markdown",
      "metadata": {
        "id": "Ro2O7XUWieG-"
      },
      "source": [
        "- **F1 Score:** The **Harmonic Mean** of `Precision` and `Recall`.\n",
        "- A single score that balances both Precision and Recall.\n",
        "\n",
        "<br>\n",
        "\n",
        "$$\n",
        "\\text{F1 Score} = 2 \\times \\frac{\\text{Precision} \\times \\text{Recall}}{\\text{Precision} + \\text{Recall}} =  \\frac{2 \\text{PR}}{\\text{P} + \\text{R}}\n",
        "$$\n"
      ]
    },
    {
      "cell_type": "code",
      "execution_count": null,
      "metadata": {
        "id": "VaVv2YvXieG-",
        "outputId": "7d834488-58b2-4b0c-8f01-f762d11d82d6"
      },
      "outputs": [
        {
          "name": "stdout",
          "output_type": "stream",
          "text": [
            "F1 Score: 0.7692307692307693\n"
          ]
        }
      ],
      "source": [
        "from sklearn.metrics import f1_score\n",
        "\n",
        "f1 = f1_score(y_true, y_pred)\n",
        "print(\"F1 Score:\", f1)"
      ]
    },
    {
      "cell_type": "markdown",
      "metadata": {
        "id": "D8jN-kAxieG_"
      },
      "source": [
        "---"
      ]
    },
    {
      "cell_type": "markdown",
      "metadata": {
        "id": "dRUKFvtFieG_"
      },
      "source": [
        "\n",
        "### **F-beta Score**\n"
      ]
    },
    {
      "cell_type": "markdown",
      "metadata": {
        "id": "vKku7DZDieHA"
      },
      "source": [
        "The **F-beta Score** is a generalization of the **F1 Score** that allows you to control the balance between **Precision** and **Recall** using the `beta` parameter. The value of `beta` determines how much weight is given to **Recall** relative to **Precision**.\n",
        "\n",
        "<br>\n",
        "\n",
        "$$\n",
        "\\text{F-beta Score} = (1 + \\beta^2) \\times \\frac{\\text{Precision} \\times \\text{Recall}}{(\\beta^2 \\times \\text{Precision}) + \\text{Recall}}\n",
        "$$\n",
        "\n",
        "<br>\n",
        "\n",
        "**Effect of Beta (β)**\n",
        "\n",
        "\n",
        "| Beta (β) Value | Effect on F-beta Score                                                                 |\n",
        "|----------------|---------------------------------------------------------------------------------------|\n",
        "| **β = 1**      | Equal weight to Precision and Recall (**F1 Score**).                                      |\n",
        "| **β > 1**      | More weight to **Recall** (prioritize minimizing false negatives `↓FN`).                        |\n",
        "| **β < 1**      | More weight to **Precision** (prioritize minimizing false positives `↓FP`).                     |\n"
      ]
    },
    {
      "cell_type": "code",
      "execution_count": null,
      "metadata": {
        "id": "LfoK2EkxieHC",
        "outputId": "3ebad092-ac8a-4ffe-df16-e0ebae9ae2a2"
      },
      "outputs": [
        {
          "name": "stdout",
          "output_type": "stream",
          "text": [
            "F-beta Score (beta=2): 0.8064516129032258\n"
          ]
        }
      ],
      "source": [
        "from sklearn.metrics import fbeta_score\n",
        "\n",
        "# Beta = 2 (more weight on recall)\n",
        "f_beta = fbeta_score(y_true, y_pred, beta=2)\n",
        "print(\"F-beta Score (beta=2):\", f_beta)"
      ]
    },
    {
      "cell_type": "markdown",
      "metadata": {
        "id": "lEb8EaZNieHD"
      },
      "source": [
        "\n",
        "---\n"
      ]
    },
    {
      "cell_type": "markdown",
      "metadata": {
        "id": "9X6whyo-ieHD"
      },
      "source": [
        "\n",
        "### **Summary of Classification Metrics**\n"
      ]
    },
    {
      "cell_type": "markdown",
      "source": [
        "| Metric        | Formula                                      | Use Case                                   |\n",
        "|---------------|----------------------------------------------|-------------------------------------------|\n",
        "| Accuracy      | $\\frac{TP + TN}{TP + TN + FP + FN}$       | Overall Performance                       |\n",
        "| Precision     | $\\frac{TP}{TP + FP}$                      | Minimize False Positives  (FP↓)                |\n",
        "| Recall        | $\\frac{TP}{TP + FN}$                      | Minimize False Negatives  (FN↓)                |\n",
        "| F1 Score      | $\\frac{2PR}{P + R}$       | Balanced trade-off between Precision and Recall              |\n",
        "| F-beta Score  | $\\frac{(1 + \\beta^2) \\times PR}{(\\beta^2 \\times P) + R}$ | Weighted trade-off (β > 1 'Recall', β < 1 'Precision') |\n",
        "\n",
        "---\n"
      ],
      "metadata": {
        "id": "chQDM9Yj2O6x"
      }
    },
    {
      "cell_type": "markdown",
      "metadata": {
        "id": "7nB7Gg1vieHE"
      },
      "source": [
        "### **Classification Metrics Class**"
      ]
    },
    {
      "cell_type": "code",
      "execution_count": null,
      "metadata": {
        "id": "fF5i0--hieHE",
        "outputId": "0530c2f8-39a0-4afd-b6f7-3049969fdb38"
      },
      "outputs": [
        {
          "name": "stdout",
          "output_type": "stream",
          "text": [
            "Classification Metrics:\n",
            "———————————————————————\n",
            "Confusion Matrix:\n",
            "[[3 2]\n",
            " [1 5]]\n",
            "Accuracy  \t0.7273\n",
            "Precision \t0.7143\n",
            "Recall    \t0.8333\n",
            "F1 Score  \t0.7692\n"
          ]
        },
        {
          "data": {
            "image/png": "[encoded data removed]",
            "text/plain": [
              "<Figure size 600x400 with 2 Axes>"
            ]
          },
          "metadata": {},
          "output_type": "display_data"
        }
      ],
      "source": [
        "from sklearn.metrics import (\n",
        "    confusion_matrix,\n",
        "    accuracy_score,\n",
        "    precision_score,\n",
        "    recall_score,\n",
        "    f1_score,\n",
        ")\n",
        "import matplotlib.pyplot as plt\n",
        "import seaborn as sns\n",
        "\n",
        "\n",
        "class ClassificationMetrics:\n",
        "    def __init__(self, y_true, y_pred):\n",
        "        \"\"\"\n",
        "        Initialize the class with true and predicted labels.\n",
        "        :param y_true: List of actual labels.\n",
        "        :param y_pred: List of predicted labels.\n",
        "        \"\"\"\n",
        "        self.y_true = y_true\n",
        "        self.y_pred = y_pred\n",
        "        self.cm = confusion_matrix(self.y_true, self.y_pred)\n",
        "        self.tn, self.fp, self.fn, self.tp = self.cm.ravel()\n",
        "\n",
        "    def calculate_metrics(self):\n",
        "        \"\"\"\n",
        "        Calculate all classification metrics.\n",
        "        :return: Dictionary containing all metrics.\n",
        "        \"\"\"\n",
        "        self.metrics = {\n",
        "            \"Confusion Matrix\": self.cm,\n",
        "            \"Accuracy\": accuracy_score(self.y_true, self.y_pred),\n",
        "            \"Precision\": precision_score(self.y_true, self.y_pred),\n",
        "            \"Recall\": recall_score(self.y_true, self.y_pred),\n",
        "            \"F1 Score\": f1_score(self.y_true, self.y_pred),\n",
        "        }\n",
        "        return self.metrics\n",
        "\n",
        "    def display_metrics(self):\n",
        "        \"\"\"\n",
        "        Display all metrics in a clean and organized way.\n",
        "        \"\"\"\n",
        "        metrics = self.calculate_metrics()\n",
        "        print(\"Classification Metrics:\")\n",
        "        print(\"—\" * 23)\n",
        "        for metric, value in metrics.items():\n",
        "            if metric == \"Confusion Matrix\":\n",
        "                print(f\"{metric}:\\n{value}\")\n",
        "            else:\n",
        "                print(f\"{metric:10s}\\t{value:.4f}\")\n",
        "\n",
        "    def plot_confusion_matrix(self, figsize=(6, 4)):\n",
        "        \"\"\"\n",
        "        Plot the confusion matrix using seaborn.\n",
        "        \"\"\"\n",
        "        plt.figure(figsize=figsize)\n",
        "        sns.heatmap(self.cm, annot=True, fmt=\"d\", cmap=\"Blues\")\n",
        "        plt.title(\"Confusion Matrix\")\n",
        "        plt.xlabel(\"Predicted\")\n",
        "        plt.ylabel(\"Actual\")\n",
        "        plt.show()\n",
        "\n",
        "    def run(self):\n",
        "        self.display_metrics()\n",
        "        self.plot_confusion_matrix()\n",
        "\n",
        "\n",
        "# Example usage\n",
        "y_true = [1, 1, 0, 1, 0, 1, 0, 1, 0, 0, 1]\n",
        "y_pred = [1, 0, 0, 1, 0, 1, 1, 1, 0, 1, 1]\n",
        "\n",
        "# Create an instance of the class\n",
        "metrics_calculator = ClassificationMetrics(y_true, y_pred)\n",
        "metrics_calculator.run()"
      ]
    }
  ],
  "metadata": {
    "kernelspec": {
      "display_name": "Python 3",
      "language": "python",
      "name": "python3"
    },
    "language_info": {
      "codemirror_mode": {
        "name": "ipython",
        "version": 3
      },
      "file_extension": ".py",
      "mimetype": "text/x-python",
      "name": "python",
      "nbconvert_exporter": "python",
      "pygments_lexer": "ipython3",
      "version": "3.12.4"
    },
    "colab": {
      "provenance": []
    }
  },
  "nbformat": 4,
  "nbformat_minor": 0
}