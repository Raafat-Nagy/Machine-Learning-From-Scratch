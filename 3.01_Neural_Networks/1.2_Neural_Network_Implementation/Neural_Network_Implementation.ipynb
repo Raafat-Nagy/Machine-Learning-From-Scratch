{
 "cells": [
  {
   "cell_type": "markdown",
   "metadata": {},
   "source": [
    "## **Neural_Network_Implementation**"
   ]
  },
  {
   "cell_type": "code",
   "execution_count": 5,
   "metadata": {},
   "outputs": [],
   "source": [
    "import numpy as np"
   ]
  },
  {
   "cell_type": "code",
   "execution_count": 6,
   "metadata": {},
   "outputs": [],
   "source": [
    "class NeuralNetwork:\n",
    "    def __init__(\n",
    "        self,\n",
    "        input_size,\n",
    "        hidden_size,\n",
    "        output_size=1,\n",
    "        learning_rate=0.01,\n",
    "        tolerance=0.0001,\n",
    "    ):\n",
    "        self.learning_rate = learning_rate\n",
    "        self.tolerance = tolerance  # Early stopping tolerance\n",
    "        self.losses = []\n",
    "\n",
    "        # Initialize weights and biases for input to hidden layer\n",
    "        self.weights_input_hidden = np.random.randn(input_size, hidden_size)\n",
    "        self.bias_hidden = np.random.randn(1, hidden_size)\n",
    "\n",
    "        # Initialize weights and biases for hidden to output layer\n",
    "        self.weights_hidden_output = np.random.randn(hidden_size, output_size)\n",
    "        self.bias_output = np.random.randn(1, output_size)\n",
    "\n",
    "    @staticmethod\n",
    "    def sigmoid(z):\n",
    "        \"\"\"Applies the sigmoid activation function.\"\"\"\n",
    "        return 1 / (1 + np.exp(-z))\n",
    "\n",
    "    @staticmethod\n",
    "    def sigmoid_derivative(a):\n",
    "        \"\"\"Computes the derivative of the sigmoid function.\"\"\"\n",
    "        return a * (1 - a)\n",
    "\n",
    "    def forward(self, X):\n",
    "        \"\"\"Performs forward propagation.\"\"\"\n",
    "        # Input to hidden layer\n",
    "        self.z_hidden = X @ self.weights_input_hidden + self.bias_hidden\n",
    "        self.a_hidden = NeuralNetwork.sigmoid(self.z_hidden)\n",
    "\n",
    "        # Hidden to output layer\n",
    "        self.z_output = self.a_hidden @ self.weights_hidden_output + self.bias_output\n",
    "        self.a_output = NeuralNetwork.sigmoid(self.z_output)\n",
    "\n",
    "        return self.a_output\n",
    "\n",
    "    def backward(self, X, y):\n",
    "        \"\"\"Performs backpropagation and updates weights and biases.\"\"\"\n",
    "        # Compute output layer error and delta\n",
    "        output_error = self.a_output - y\n",
    "        output_delta = output_error * NeuralNetwork.sigmoid_derivative(self.a_output)\n",
    "\n",
    "        # Compute hidden layer error and delta\n",
    "        hidden_error = output_delta @ self.weights_hidden_output.T\n",
    "        hidden_delta = hidden_error * NeuralNetwork.sigmoid_derivative(self.a_hidden)\n",
    "\n",
    "        # Update weights and biases for output layer\n",
    "        self.weights_hidden_output -= (\n",
    "            self.learning_rate * self.a_hidden.T @ output_delta\n",
    "        )\n",
    "        self.bias_output -= self.learning_rate * np.sum(\n",
    "            output_delta, axis=0, keepdims=True\n",
    "        )\n",
    "\n",
    "        # Update weights and biases for hidden layer\n",
    "        self.weights_input_hidden -= self.learning_rate * X.T @ hidden_delta\n",
    "        self.bias_hidden -= self.learning_rate * np.sum(\n",
    "            hidden_delta, axis=0, keepdims=True\n",
    "        )\n",
    "\n",
    "    @staticmethod\n",
    "    def compute_loss(y_pred, y_true):\n",
    "        \"\"\"Calculates Mean Squared Error (MSE) loss.\"\"\"\n",
    "        return np.mean((y_pred - y_true) ** 2)\n",
    "\n",
    "    def train(self, X, y, epochs=1000, display_loss_every=100):\n",
    "        \"\"\"Trains the neural network.\"\"\"\n",
    "        for epoch in range(epochs):\n",
    "            # Forward pass\n",
    "            y_pred = self.forward(X)\n",
    "\n",
    "            # Backward pass\n",
    "            self.backward(X, y)\n",
    "\n",
    "            # Compute and store the loss\n",
    "            loss = NeuralNetwork.compute_loss(y_pred, y)\n",
    "            self.losses.append(loss)\n",
    "\n",
    "            # Early stopping if loss change is below tolerance\n",
    "            if (\n",
    "                epoch > 0\n",
    "                and np.abs(self.losses[epoch - 1] - self.losses[epoch]) < self.tolerance\n",
    "            ):\n",
    "                print(f\"Epoch {(epoch + 1):4}, Loss: {loss:.10f}\")\n",
    "                break\n",
    "\n",
    "            # Display loss at intervals\n",
    "            if (epoch + 1) % display_loss_every == 0:\n",
    "                print(f\"Epoch {(epoch + 1):4}, Loss: {loss:.10f}\")\n",
    "\n",
    "    def predict(self, X):\n",
    "        \"\"\"Generates predictions for the input data.\"\"\"\n",
    "        return self.forward(X)"
   ]
  },
  {
   "cell_type": "markdown",
   "metadata": {},
   "source": [
    "#### **Example: XOR Problem**"
   ]
  },
  {
   "cell_type": "code",
   "execution_count": 7,
   "metadata": {},
   "outputs": [
    {
     "name": "stdout",
     "output_type": "stream",
     "text": [
      "Epoch   10, Loss: 0.2450063994\n",
      "Epoch   20, Loss: 0.2394418205\n",
      "Epoch   30, Loss: 0.2326648802\n",
      "Epoch   40, Loss: 0.2246754138\n",
      "Epoch   50, Loss: 0.2153061111\n",
      "Epoch   60, Loss: 0.2043187214\n",
      "Epoch   70, Loss: 0.1915730968\n",
      "Epoch   80, Loss: 0.1770512016\n",
      "Epoch   90, Loss: 0.1608784188\n",
      "Epoch  100, Loss: 0.1434139415\n",
      "Epoch  110, Loss: 0.1253022228\n",
      "Epoch  120, Loss: 0.1074053100\n",
      "Epoch  130, Loss: 0.0906157371\n",
      "Epoch  140, Loss: 0.0756310167\n",
      "Epoch  150, Loss: 0.0628133819\n",
      "Epoch  160, Loss: 0.0521936952\n",
      "Epoch  170, Loss: 0.0435753223\n",
      "Epoch  180, Loss: 0.0366563365\n",
      "Epoch  190, Loss: 0.0311190559\n",
      "Epoch  200, Loss: 0.0266775385\n",
      "Epoch  210, Loss: 0.0230944442\n",
      "Epoch  220, Loss: 0.0201812853\n",
      "Epoch  230, Loss: 0.0177918136\n",
      "Epoch  240, Loss: 0.0158137603\n",
      "Epoch  250, Loss: 0.0141611929\n",
      "Epoch  260, Loss: 0.0127682134\n",
      "Epoch  270, Loss: 0.0115840433\n",
      "Epoch  277, Loss: 0.0108579051\n",
      "\n",
      "Predictions:\n",
      " [[0.0863619 ]\n",
      " [0.88907265]\n",
      " [0.90467905]\n",
      " [0.11912919]]\n"
     ]
    }
   ],
   "source": [
    "X_train = np.array([[0, 0, 1], [0, 1, 1], [1, 0, 1], [1, 1, 1]])\n",
    "y_train = np.array([[0], [1], [1], [0]])\n",
    "\n",
    "# Define network parameters\n",
    "input_size = X_train.shape[1]\n",
    "hidden_size = 8\n",
    "output_size = 1\n",
    "learning_rate = 1\n",
    "epochs = 700\n",
    "display_loss_every = 10\n",
    "\n",
    "# Initialize the neural network\n",
    "nn = NeuralNetwork(input_size, hidden_size, output_size, learning_rate=learning_rate)\n",
    "\n",
    "# Train the neural network\n",
    "nn.train(X_train, y_train, epochs, display_loss_every)\n",
    "\n",
    "# Make predictions on the training data\n",
    "predictions = nn.predict(X_train)\n",
    "\n",
    "# Output the predictions\n",
    "print(\"\\nPredictions:\\n\", predictions)"
   ]
  },
  {
   "cell_type": "markdown",
   "metadata": {},
   "source": [
    "#### **Plot The Loss Over Epochs**"
   ]
  },
  {
   "cell_type": "code",
   "execution_count": 8,
   "metadata": {},
   "outputs": [
    {
     "data": {
      "image/png": "[encoded data removed]",
      "text/plain": [
       "<Figure size 800x500 with 1 Axes>"
      ]
     },
     "metadata": {},
     "output_type": "display_data"
    }
   ],
   "source": [
    "import matplotlib.pyplot as plt\n",
    "\n",
    "plt.figure(figsize=(8, 5))\n",
    "\n",
    "plt.plot(nn.losses, label=\"Loss\", color=\"r\")\n",
    "plt.xlabel(\"Epochs\")\n",
    "plt.ylabel(\"Loss\")\n",
    "plt.title(\"Training Loss\")\n",
    "plt.legend()\n",
    "plt.show()"
   ]
  }
 ],
 "metadata": {
  "kernelspec": {
   "display_name": "Python 3",
   "language": "python",
   "name": "python3"
  },
  "language_info": {
   "codemirror_mode": {
    "name": "ipython",
    "version": 3
   },
   "file_extension": ".py",
   "mimetype": "text/x-python",
   "name": "python",
   "nbconvert_exporter": "python",
   "pygments_lexer": "ipython3",
   "version": "3.12.4"
  }
 },
 "nbformat": 4,
 "nbformat_minor": 2
}
