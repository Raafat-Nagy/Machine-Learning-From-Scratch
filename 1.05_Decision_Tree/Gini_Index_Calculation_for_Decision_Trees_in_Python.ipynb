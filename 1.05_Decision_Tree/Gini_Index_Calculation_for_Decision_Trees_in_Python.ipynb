{
 "cells": [
  {
   "cell_type": "markdown",
   "metadata": {},
   "source": [
    "### **Gini Index Calculation for Decision Trees in Python**\n"
   ]
  },
  {
   "cell_type": "markdown",
   "metadata": {},
   "source": [
    "#### **1. Gini Index**\n"
   ]
  },
  {
   "cell_type": "markdown",
   "metadata": {},
   "source": [
    "The Gini Index for a dataset $S$ is calculated as:\n",
    "\n",
    "$$\n",
    "\\text{Gini Index}(S) = 1 - \\sum_{i=1}^n (p_i)^2\n",
    "$$\n",
    "\n",
    "Where:\n",
    "\n",
    "- $p_i$ is the proportion of instances in class $i$.\n",
    "- $n$ is the number of different classes.\n"
   ]
  },
  {
   "cell_type": "code",
   "execution_count": 48,
   "metadata": {},
   "outputs": [],
   "source": [
    "def calculate_gini_index(class_counts: list[int]) -> float:\n",
    "    total_instances = sum(class_counts)\n",
    "    probability = 0\n",
    "    for count in class_counts:\n",
    "        if count > 0:\n",
    "            probability += (count / total_instances) ** 2\n",
    "    gini_index = 1 - probability\n",
    "    return gini_index"
   ]
  },
  {
   "cell_type": "code",
   "execution_count": 49,
   "metadata": {},
   "outputs": [
    {
     "name": "stdout",
     "output_type": "stream",
     "text": [
      "Gini Index: 0.4592\n"
     ]
    }
   ],
   "source": [
    "class_counts = [9, 5]  # 9 instances of class 'Yes', 5 instances of class 'No'\n",
    "gini_index = calculate_gini_index(class_counts)\n",
    "print(f\"Gini Index: {gini_index:.4f}\")"
   ]
  },
  {
   "cell_type": "markdown",
   "metadata": {},
   "source": [
    "---\n"
   ]
  },
  {
   "cell_type": "markdown",
   "metadata": {},
   "source": [
    "#### **2. Weighted Gini Index**"
   ]
  },
  {
   "cell_type": "markdown",
   "metadata": {},
   "source": [
    "$$\n",
    "\\text{Weighted Gini Index}(S, A) = \\sum_{j=1}^m \\left( \\frac{|S_j|}{|S|} \\times \\text{Gini Index}(S_j) \\right)\n",
    "$$\n",
    "\n",
    "Where:\n",
    "\n",
    "- $m$ is the number of subsets after the split.\n",
    "- $|S_j|$ is the number of instances in subset $j$.\n",
    "- $|S|$ is the total number of instances before the split.\n",
    "- $\\text{Gini Index}(S_j)$ is the Gini Index of subset $j$.\n"
   ]
  },
  {
   "cell_type": "code",
   "execution_count": 50,
   "metadata": {},
   "outputs": [],
   "source": [
    "def calculate_weighted_gini_index(subsets: list[list[int]]) -> float:\n",
    "    total_instances = sum(sum(subset) for subset in subsets)\n",
    "    weighted_gini = 0.0\n",
    "    for subset in subsets:\n",
    "        subset_gini = calculate_gini_index(subset)\n",
    "        weighted_gini += (sum(subset) / total_instances) * subset_gini\n",
    "    return weighted_gini"
   ]
  },
  {
   "cell_type": "code",
   "execution_count": 51,
   "metadata": {},
   "outputs": [
    {
     "name": "stdout",
     "output_type": "stream",
     "text": [
      "Weighted Gini Index: 0.4583\n"
     ]
    }
   ],
   "source": [
    "# After split, we have two subsets:\n",
    "# Subset 1: 4 'Yes', 2 'No'\n",
    "# Subset 2: 5 'Yes', 3 'No'\n",
    "subsets = [[4, 2], [5, 3]]\n",
    "weighted_gini_index = calculate_weighted_gini_index(subsets)\n",
    "print(f\"Weighted Gini Index: {weighted_gini_index:.4f}\")"
   ]
  },
  {
   "cell_type": "markdown",
   "metadata": {},
   "source": [
    "---\n"
   ]
  },
  {
   "cell_type": "markdown",
   "metadata": {},
   "source": [
    "#### **3. Gini Gain**\n"
   ]
  },
  {
   "cell_type": "markdown",
   "metadata": {},
   "source": [
    "$$\n",
    "\\text{Gini Gain}(S, A) = \\text{Gini Index}(S) - \\text{Weighted Gini Index}(S, A)\n",
    "$$\n",
    "\n",
    "Where:\n",
    "\n",
    "- $\\text{Gini Index}(S)$ is the Gini Index before the split.\n",
    "- $\\text{Weighted Gini Index}(S, A)$ is the weighted Gini Index after the split.\n",
    "\n",
    "> Take Small Gini Gain"
   ]
  },
  {
   "cell_type": "code",
   "execution_count": 52,
   "metadata": {},
   "outputs": [],
   "source": [
    "def calculate_gini_gain(gini_before_split: float, subsets: list[list[int]]) -> float:\n",
    "    weighted_gini_index = calculate_weighted_gini_index(subsets)\n",
    "    gini_gain = gini_before_split - weighted_gini_index\n",
    "    return gini_gain"
   ]
  },
  {
   "cell_type": "code",
   "execution_count": 53,
   "metadata": {},
   "outputs": [],
   "source": [
    "# Before split: 9 instances of 'Yes', 5 instances of 'No'\n",
    "original_class_counts = [9, 5]\n",
    "gini_before_split = calculate_gini_index(original_class_counts)\n",
    "\n",
    "# After split, we have two subsets:\n",
    "# Subset 1: 4 'Yes', 2 'No'\n",
    "# Subset 2: 5 'Yes', 3 'No'\n",
    "subsets = [[4, 2], [5, 3]]"
   ]
  },
  {
   "cell_type": "code",
   "execution_count": 54,
   "metadata": {},
   "outputs": [
    {
     "name": "stdout",
     "output_type": "stream",
     "text": [
      "Gini Gain: 0.0009\n"
     ]
    }
   ],
   "source": [
    "gini_gain = calculate_gini_gain(gini_before_split, subsets)\n",
    "print(f\"Gini Gain: {gini_gain:.4f}\")"
   ]
  },
  {
   "cell_type": "markdown",
   "metadata": {},
   "source": [
    "#### **Summary**\n"
   ]
  },
  {
   "cell_type": "markdown",
   "metadata": {},
   "source": [
    "1. **Gini Index**: Measures the impurity of a dataset based on class proportions.\n",
    "2. **Weighted Gini Index**: Computes the weighted average of Gini Indices for subsets after a split.\n",
    "3. **Gini Gain**: Measures the reduction in impurity (Gini Index) due to a split\n"
   ]
  }
 ],
 "metadata": {
  "kernelspec": {
   "display_name": "Python 3",
   "language": "python",
   "name": "python3"
  },
  "language_info": {
   "codemirror_mode": {
    "name": "ipython",
    "version": 3
   },
   "file_extension": ".py",
   "mimetype": "text/x-python",
   "name": "python",
   "nbconvert_exporter": "python",
   "pygments_lexer": "ipython3",
   "version": "3.12.4"
  }
 },
 "nbformat": 4,
 "nbformat_minor": 2
}
