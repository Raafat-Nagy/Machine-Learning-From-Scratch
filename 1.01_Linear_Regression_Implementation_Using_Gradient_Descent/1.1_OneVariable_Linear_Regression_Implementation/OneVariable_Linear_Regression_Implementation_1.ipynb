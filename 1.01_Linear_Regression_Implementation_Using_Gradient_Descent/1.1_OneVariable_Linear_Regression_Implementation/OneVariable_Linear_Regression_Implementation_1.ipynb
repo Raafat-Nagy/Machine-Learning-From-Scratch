{
  "cells": [
    {
      "cell_type": "markdown",
      "metadata": {
        "id": "FoMiJsKvo02C"
      },
      "source": [
        "## **Simple Linear Regression Implementation using Gradient Descent**\n"
      ]
    },
    {
      "cell_type": "markdown",
      "metadata": {
        "id": "Kxw6A1aYo02G"
      },
      "source": [
        "#### **Import Necessary Libraries**\n"
      ]
    },
    {
      "cell_type": "code",
      "execution_count": 2,
      "metadata": {
        "id": "M5i-XBqgo02H"
      },
      "outputs": [],
      "source": [
        "import numpy as np\n",
        "import matplotlib.pyplot as plt"
      ]
    },
    {
      "cell_type": "code",
      "execution_count": 3,
      "metadata": {
        "id": "oU68rHoao02J"
      },
      "outputs": [],
      "source": [
        "plt.style.use(\"seaborn-v0_8-darkgrid\")"
      ]
    },
    {
      "cell_type": "markdown",
      "metadata": {
        "id": "ZQwzFPOyo02K"
      },
      "source": [
        "#### **Generate linear data with noise**\n"
      ]
    },
    {
      "cell_type": "markdown",
      "metadata": {
        "id": "6KfdVFWqo02K"
      },
      "source": [
        "Define Variables 𝑋 and 𝑦\n"
      ]
    },
    {
      "cell_type": "code",
      "execution_count": 4,
      "metadata": {
        "id": "qygeBPuqo02L"
      },
      "outputs": [],
      "source": [
        "n_samples = 20\n",
        "slope = 5\n",
        "intercept = 2\n",
        "noise_level = 3\n",
        "np.random.seed(42)\n",
        "\n",
        "# Generate random x values\n",
        "X = np.linspace(0, 10, n_samples)\n",
        "\n",
        "# Generate the true y values and add noise\n",
        "y_true = slope * X + intercept\n",
        "y = y_true + np.random.normal(0, noise_level, n_samples)"
      ]
    },
    {
      "cell_type": "markdown",
      "metadata": {
        "id": "GdcVByu2o02M"
      },
      "source": [
        "#### **Plot the Original Data**\n"
      ]
    },
    {
      "cell_type": "markdown",
      "metadata": {
        "id": "0rzMxQQ4o02M"
      },
      "source": [
        "Visualize the data using a scatter plot of (X,y)\n"
      ]
    },
    {
      "cell_type": "code",
      "execution_count": 5,
      "metadata": {
        "id": "GS7MsKpso02M",
        "outputId": "c2ac426f-0fda-49a1-98e4-aeab6a639d4f",
        "colab": {
          "base_uri": "https://localhost:8080/",
          "height": 480
        }
      },
      "outputs": [
        {
          "output_type": "display_data",
          "data": {
            "text/plain": [
              "<Figure size 700x500 with 1 Axes>"
            ],
            "image/png": "[encoded data removed]"
          },
          "metadata": {}
        }
      ],
      "source": [
        "plt.figure(figsize=(7, 5))\n",
        "plt.scatter(X, y)\n",
        "plt.xlabel(\"X\")\n",
        "plt.ylabel(\"Y\")\n",
        "plt.title(\"Scatter plot of Original Data\")\n",
        "plt.show()"
      ]
    },
    {
      "cell_type": "markdown",
      "metadata": {
        "id": "dggug_bCo02O"
      },
      "source": [
        "---\n"
      ]
    },
    {
      "cell_type": "markdown",
      "metadata": {
        "id": "z3WnWL1fo02O"
      },
      "source": [
        "### **Linear Regression Full Implementation**\n"
      ]
    },
    {
      "cell_type": "markdown",
      "metadata": {
        "id": "ttep9Hfso02O"
      },
      "source": [
        "#### **Step 1: Initialize Parameters**\n"
      ]
    },
    {
      "cell_type": "markdown",
      "metadata": {
        "id": "GHeCU1Bao02O"
      },
      "source": [
        "Initialize parameters (theta_0 & theta_1) with random value or simply zero.<br>\n",
        "Also choose the Learning rate.\n"
      ]
    },
    {
      "cell_type": "code",
      "execution_count": 6,
      "metadata": {
        "id": "lIMTG5nWo02P"
      },
      "outputs": [],
      "source": [
        "theta_0 = 0\n",
        "theta_1 = 0\n",
        "lr = 0.01\n",
        "m = len(y)"
      ]
    },
    {
      "cell_type": "markdown",
      "metadata": {
        "id": "EWxVXIcso02P"
      },
      "source": [
        "#### **Step 2: Implement the Hypothesis Function**\n"
      ]
    },
    {
      "cell_type": "markdown",
      "metadata": {
        "id": "8-2ZHWqKo02P"
      },
      "source": [
        "Use (theta_0 & theta_1) to predict the output\n",
        "\n",
        "> **Note: you will need to iterate through all data points**\n"
      ]
    },
    {
      "cell_type": "markdown",
      "metadata": {
        "id": "wzCaWyDQo02P"
      },
      "source": [
        "$$h_\\theta(x) = \\theta_0 + \\theta_1 x$$\n"
      ]
    },
    {
      "cell_type": "code",
      "execution_count": 7,
      "metadata": {
        "id": "t9CgMOBXo02Q",
        "outputId": "1125987e-91b2-4104-d65e-4e90f5dd9bb1",
        "colab": {
          "base_uri": "https://localhost:8080/"
        }
      },
      "outputs": [
        {
          "output_type": "stream",
          "name": "stdout",
          "text": [
            "h(x): [0. 0. 0. 0. 0. 0. 0. 0. 0. 0. 0. 0. 0. 0. 0. 0. 0. 0. 0. 0.]\n"
          ]
        }
      ],
      "source": [
        "h_x = theta_0 + theta_1 * X\n",
        "print(\"h(x):\", h_x)"
      ]
    },
    {
      "cell_type": "markdown",
      "metadata": {
        "id": "bDv1k00zo02Q"
      },
      "source": [
        "#### **Step 3: Calculate the Cost Function $J(\\theta)$ (MSE)**\n"
      ]
    },
    {
      "cell_type": "markdown",
      "metadata": {
        "id": "bbJYUareo02Q"
      },
      "source": [
        "> <b>Note:</b> You better use either dot product or norm square of the error vector.\n"
      ]
    },
    {
      "cell_type": "markdown",
      "metadata": {
        "id": "SygPtoERo02Q"
      },
      "source": [
        "<p style=\"text-align: center; font-weight: bold;\">Error Calculation</p>\n",
        "\n",
        "$$\\text{Error} = h_x - y$$\n"
      ]
    },
    {
      "cell_type": "code",
      "execution_count": 8,
      "metadata": {
        "id": "lphAliWro02Q",
        "outputId": "1bb6bb37-f5a4-4cf7-aff9-482117e5a340",
        "colab": {
          "base_uri": "https://localhost:8080/"
        }
      },
      "outputs": [
        {
          "output_type": "stream",
          "name": "stdout",
          "text": [
            "Error Vector:\n",
            " [ -3.49014246  -4.21678604  -9.20622351 -14.46382641 -11.82385567\n",
            " -14.45548387 -22.52711213 -22.72335682 -21.64420842 -27.31189066\n",
            " -26.9255364  -29.55017916 -34.30483418 -30.47068558 -33.66735177\n",
            " -39.78682162 -41.0667698  -47.6795841  -46.64434883 -47.7630889 ]\n"
          ]
        }
      ],
      "source": [
        "error = h_x - y\n",
        "print(\"Error Vector:\\n\", error)"
      ]
    },
    {
      "cell_type": "markdown",
      "metadata": {
        "id": "Ppf8JxCJo02R"
      },
      "source": [
        "<p style=\"text-align: center;\"><b>Cost Function J(θ) (MSE)</b></p>\n",
        "\n",
        "$$J(\\theta) = \\frac{1}{2m} \\sum_{i=1}^{m} \\left( h_\\theta(x^{(i)}) - y^{(i)} \\right)^2$$\n"
      ]
    },
    {
      "cell_type": "code",
      "execution_count": 9,
      "metadata": {
        "id": "5kFntVJ5o02R",
        "outputId": "90d9d9bc-a288-4e0d-d555-397eb62ffcc2",
        "colab": {
          "base_uri": "https://localhost:8080/"
        }
      },
      "outputs": [
        {
          "output_type": "stream",
          "name": "stdout",
          "text": [
            "\n",
            "J(θ): 443.69276433420544\n"
          ]
        }
      ],
      "source": [
        "J_theta = np.sum(error**2) / (2 * m)\n",
        "print(\"\\nJ(θ):\", J_theta)"
      ]
    },
    {
      "cell_type": "markdown",
      "metadata": {
        "id": "58T9kVT-o02R"
      },
      "source": [
        "<p style=\"text-align: center;\"><b>Cost Function J(θ) (MSE)</b></p>\n",
        "\n",
        "$$J(\\theta) = \\frac{\\| \\text{Error} \\|_2^2}{2m}$$\n",
        "\n",
        "- $\\| \\text{Error} \\|_2$ denotes the L2 norm of the error vector, which is equivalent to the square root of the sum of the squares of its elements.\n"
      ]
    },
    {
      "cell_type": "code",
      "execution_count": 10,
      "metadata": {
        "id": "nfMeGyE6o02S",
        "outputId": "b78962bb-eadf-4696-e537-9b02dbb7a6e7",
        "colab": {
          "base_uri": "https://localhost:8080/"
        }
      },
      "outputs": [
        {
          "output_type": "stream",
          "name": "stdout",
          "text": [
            "\n",
            "J(θ): 443.6927643342054\n"
          ]
        }
      ],
      "source": [
        "J_theta = np.linalg.norm(error) ** 2 / (2 * m)\n",
        "print(\"\\nJ(θ):\", J_theta)"
      ]
    },
    {
      "cell_type": "markdown",
      "metadata": {
        "id": "t3FDLEMmo02S"
      },
      "source": [
        "<p style=\"text-align: center;\"><b>Cost Function J(θ) (MSE)</b></p>\n",
        "\n",
        "$$J(\\theta) = \\frac{\\text{E} \\cdot \\text{E}}{2m}$$\n"
      ]
    },
    {
      "cell_type": "code",
      "execution_count": 11,
      "metadata": {
        "id": "aLVR-svRo02S",
        "outputId": "087b141f-16e9-4e6e-87b9-66ba961a906f",
        "colab": {
          "base_uri": "https://localhost:8080/"
        }
      },
      "outputs": [
        {
          "output_type": "stream",
          "name": "stdout",
          "text": [
            "\n",
            "J(θ): 443.69276433420544\n"
          ]
        }
      ],
      "source": [
        "J_theta = (error @ error) / (2 * m)\n",
        "print(\"\\nJ(θ):\", J_theta)"
      ]
    },
    {
      "cell_type": "markdown",
      "metadata": {
        "id": "Td9auiToo02S"
      },
      "source": [
        "#### **Step 4: Compute the Gradient**\n"
      ]
    },
    {
      "cell_type": "markdown",
      "metadata": {
        "id": "RTM4omYco02T"
      },
      "source": [
        "$$\\frac{\\partial}{\\partial \\theta_0} J(\\boldsymbol{\\theta}) = \\frac{1}{m} \\sum_{i=1}^{m} \\left( h_\\theta(x^{(i)}) - y^{(i)} \\right)$$\n",
        "\n",
        "$$\\frac{\\partial}{\\partial \\theta_1} J(\\boldsymbol{\\theta}) = \\frac{1}{m} \\sum_{i=1}^{m} \\left( h_\\theta(x^{(i)}) - y^{(i)} \\right)x_1^{(i)}$$\n"
      ]
    },
    {
      "cell_type": "code",
      "execution_count": 12,
      "metadata": {
        "id": "CpinRK8-o02T",
        "outputId": "67272b4f-9a5a-4d34-9e2e-13405339414e",
        "colab": {
          "base_uri": "https://localhost:8080/"
        }
      },
      "outputs": [
        {
          "output_type": "stream",
          "name": "stdout",
          "text": [
            "d(θ₀): -26.48610431567451\n",
            "d(θ₁): -173.25600339528313\n"
          ]
        }
      ],
      "source": [
        "d_theta_0 = (error.sum()) / m\n",
        "d_theta_1 = (error @ X) / m\n",
        "\n",
        "print(\"d(θ₀):\", d_theta_0)\n",
        "print(\"d(θ₁):\", d_theta_1)"
      ]
    },
    {
      "cell_type": "markdown",
      "metadata": {
        "id": "sDI47LyVo02T"
      },
      "source": [
        "#### **Step 5: Update Parameters (Simultaneously)**\n"
      ]
    },
    {
      "cell_type": "markdown",
      "metadata": {
        "id": "obQxaIqdo02T"
      },
      "source": [
        "**Gradient Descent Function Update Rules**\n",
        "\n",
        "$$\\theta_0 := \\theta_0 - \\alpha \\frac{\\partial}{\\partial \\theta_0} J(\\boldsymbol{\\theta})$$\n",
        "\n",
        "$$\\theta_1 := \\theta_1 - \\alpha \\frac{\\partial}{\\partial \\theta_1} J(\\boldsymbol{\\theta})$$\n"
      ]
    },
    {
      "cell_type": "code",
      "execution_count": 13,
      "metadata": {
        "id": "jLzlelmto02T",
        "outputId": "e51a9bb5-e19d-4d2d-e3dc-1df88ce2f742",
        "colab": {
          "base_uri": "https://localhost:8080/"
        }
      },
      "outputs": [
        {
          "output_type": "stream",
          "name": "stdout",
          "text": [
            "Updated θ₀: 0.2648610431567451\n",
            "Updated θ₁: 1.7325600339528313\n"
          ]
        }
      ],
      "source": [
        "theta_0 = theta_0 - (lr * d_theta_0)\n",
        "theta_1 = theta_1 - (lr * d_theta_1)\n",
        "\n",
        "print(\"Updated θ₀:\", theta_0)\n",
        "print(\"Updated θ₁:\", theta_1)"
      ]
    },
    {
      "cell_type": "markdown",
      "metadata": {
        "id": "YbES0ilro02U"
      },
      "source": [
        "#### **Step 6: Iterate Until Convergence**\n"
      ]
    },
    {
      "cell_type": "markdown",
      "metadata": {
        "id": "K5rluTu2o02U"
      },
      "source": [
        "Repeat from 2 to 5 until converge to the minimum or achieve maximum iterations.\n",
        "\n",
        "The objective from this step is to combine all the previous steps and iterate untill you either achieve the maximum number of iterations or reach the minimum.\n"
      ]
    },
    {
      "cell_type": "code",
      "execution_count": 17,
      "metadata": {
        "id": "oZUpkpiPo02U"
      },
      "outputs": [],
      "source": [
        "def gradient_descent(\n",
        "    X, y, lr=0.1, max_iter=10000, loss_threshold=0.0001, gradient_threshold=0.001 , details = False\n",
        "):\n",
        "    \"\"\"Return -> theta_0_opt, theta_1_opt, loss\"\"\"\n",
        "\n",
        "    theta_0, theta_1 = 0, 0  # Initialize parameters\n",
        "    m = len(y)\n",
        "    loss = []\n",
        "\n",
        "    for i in range(max_iter):\n",
        "        if details:\n",
        "            print(f\"{'*'*25} Iteration {i+1} {'*'*25}\\n\")\n",
        "\n",
        "        # Compute predictions\n",
        "        h_x = theta_0 + theta_1 * X\n",
        "        if details:\n",
        "            print(\"h(x):\", h_x,\"\\n\")\n",
        "\n",
        "        # Calculate error\n",
        "        error = h_x - y\n",
        "        if details:\n",
        "            print(\"Error Vector:\\n\", error,\"\\n\")\n",
        "\n",
        "        # Compute cost (Mean Squared Error)\n",
        "        J_theta = (np.linalg.norm(error) ** 2) / (2 * m)\n",
        "        loss.append(J_theta)\n",
        "        if details:\n",
        "            print(\"J(θ):\", J_theta,\"\\n\")\n",
        "\n",
        "        # Check for convergence based on loss difference\n",
        "        if i > 0 and np.abs(loss[i - 1] - loss[i]) < loss_threshold:\n",
        "            print(f\"Loss change convergence achieved at iteration {i + 1}\")\n",
        "            break\n",
        "\n",
        "        # Compute gradients\n",
        "        d_theta_0 = error.sum() / m\n",
        "        d_theta_1 = np.dot(error, X) / m\n",
        "        if details:\n",
        "            print(\"▽(θ₀):\", d_theta_0 )\n",
        "            print(\"▽(θ₁):\", d_theta_1,\"\\n\")\n",
        "\n",
        "\n",
        "        # Compute gradient norm\n",
        "        gradient_vector = np.array([d_theta_0, d_theta_1])\n",
        "        gradient_norm = np.linalg.norm(gradient_vector)\n",
        "        if details:\n",
        "            print(\"Gradient Vector:\\n\",gradient_vector,\"\\n\")\n",
        "            print(\"Gradient Vector Norm:\",gradient_norm,\"\\n\")\n",
        "\n",
        "\n",
        "        # Check for convergence based on gradient norm\n",
        "        if gradient_norm < gradient_threshold:\n",
        "            print(f\"Gradient norm convergence achieved at iteration {i + 1}\")\n",
        "            break\n",
        "\n",
        "        # Update parameters\n",
        "        theta_0 -= lr * d_theta_0\n",
        "        theta_1 -= lr * d_theta_1\n",
        "        if details:\n",
        "            print(\"Updated_θ₀: \", theta_0)\n",
        "            print(\"Updated_θ₁: \", theta_1,\"\\n\\n\")\n",
        "\n",
        "    return theta_0, theta_1, loss"
      ]
    },
    {
      "cell_type": "code",
      "execution_count": 21,
      "metadata": {
        "id": "St03Teemo02U",
        "outputId": "db6a85da-f79e-4430-8d9d-a649037f4b72",
        "colab": {
          "base_uri": "https://localhost:8080/"
        }
      },
      "outputs": [
        {
          "output_type": "stream",
          "name": "stdout",
          "text": [
            "Loss change convergence achieved at iteration 16\n",
            "Optimum θ₀: 0.8690917054623055\n",
            "Optimum θ₁: 4.933289048869327\n"
          ]
        }
      ],
      "source": [
        "lr = 0.01\n",
        "max_iter = 1000\n",
        "\n",
        "theta_0_opt, theta_1_opt, loss = gradient_descent(\n",
        "    X,\n",
        "    y,\n",
        "    lr=lr,\n",
        "    max_iter=max_iter,\n",
        "    loss_threshold=0.01,\n",
        "    gradient_threshold=0.01,\n",
        "    details=False,\n",
        ")\n",
        "\n",
        "print(\"Optimum θ₀:\", theta_0_opt)\n",
        "print(\"Optimum θ₁:\", theta_1_opt)"
      ]
    },
    {
      "cell_type": "markdown",
      "metadata": {
        "id": "Bx_Rvjdbo02b"
      },
      "source": [
        "---\n"
      ]
    },
    {
      "cell_type": "markdown",
      "metadata": {
        "id": "ZqYPotTXo02b"
      },
      "source": [
        "#### **Predict y values using the LR equation**\n",
        "\n",
        "$$h_\\theta(x) = \\theta_0 + \\theta_1 x$$\n"
      ]
    },
    {
      "cell_type": "code",
      "execution_count": 19,
      "metadata": {
        "id": "wOpT6Pcjo02b",
        "outputId": "7b07b376-691f-4e49-ae0c-c94b50150cc8",
        "colab": {
          "base_uri": "https://localhost:8080/"
        }
      },
      "outputs": [
        {
          "output_type": "stream",
          "name": "stdout",
          "text": [
            "h(x) = y_predict:\n",
            " [ 0.86909171  3.46555963  6.06202755  8.65849547 11.25496339 13.85143131\n",
            " 16.44789923 19.04436715 21.64083507 24.23730299 26.83377091 29.43023883\n",
            " 32.02670675 34.62317467 37.21964259 39.81611051 42.41257843 45.00904635\n",
            " 47.60551427 50.20198219]\n",
            "\n",
            "y_actual:\n",
            " [ 3.49014246  4.21678604  9.20622351 14.46382641 11.82385567 14.45548387\n",
            " 22.52711213 22.72335682 21.64420842 27.31189066 26.9255364  29.55017916\n",
            " 34.30483418 30.47068558 33.66735177 39.78682162 41.0667698  47.6795841\n",
            " 46.64434883 47.7630889 ]\n"
          ]
        }
      ],
      "source": [
        "y_pred = theta_0_opt + theta_1_opt * X\n",
        "print(\"h(x) = y_predict:\\n\", y_pred)\n",
        "print(\"\\ny_actual:\\n\", y)"
      ]
    },
    {
      "cell_type": "markdown",
      "metadata": {
        "id": "j__MooR8o02c"
      },
      "source": [
        "#### **Visualize Results**\n"
      ]
    },
    {
      "cell_type": "markdown",
      "metadata": {
        "id": "fHg4IIn5o02c"
      },
      "source": [
        "Plot LR equation output (fitted line) with the original data (scatter plot of X,y)\n"
      ]
    },
    {
      "cell_type": "code",
      "execution_count": null,
      "metadata": {
        "id": "g_efM2Eco02c",
        "outputId": "83808d65-30c1-49c0-e945-4fedf4de7ff3"
      },
      "outputs": [
        {
          "data": {
            "image/png": "[encoded data removed]",
            "text/plain": [
              "<Figure size 700x500 with 1 Axes>"
            ]
          },
          "metadata": {},
          "output_type": "display_data"
        }
      ],
      "source": [
        "plt.figure(figsize=(7, 5))\n",
        "plt.scatter(X, y, label=\"Original Data\")\n",
        "plt.plot(X, y_pred, color=\"red\", label=\"Fitted Line\")\n",
        "plt.xlabel(\"X\")\n",
        "plt.ylabel(\"Y\")\n",
        "plt.title(\"Linear Regression Fit\")\n",
        "plt.legend()\n",
        "plt.show()"
      ]
    },
    {
      "cell_type": "markdown",
      "metadata": {
        "id": "h9yFlkgko02c"
      },
      "source": [
        "#### **Evaluate Model**\n"
      ]
    },
    {
      "cell_type": "markdown",
      "metadata": {
        "id": "D7Mv6Qjeo02d"
      },
      "source": [
        "**Use R2 score to evaluate LR equation output**\n",
        "\n",
        "https://en.wikipedia.org/wiki/Coefficient_of_determination\n"
      ]
    },
    {
      "cell_type": "code",
      "execution_count": null,
      "metadata": {
        "id": "ID3Yg3Uoo02d"
      },
      "outputs": [],
      "source": [
        "# Calculate R² score\n",
        "def r2_score(y_true, y_pred):\n",
        "    ss_res = np.sum((y_true - y_pred) ** 2)\n",
        "    ss_tot = np.sum((y_true - np.mean(y_true)) ** 2)\n",
        "\n",
        "    r2 = 1 - (ss_res / ss_tot)\n",
        "    return r2"
      ]
    },
    {
      "cell_type": "code",
      "execution_count": null,
      "metadata": {
        "id": "CIYsOFdVo02d",
        "outputId": "57e76141-fc24-4fbf-f51d-4023812024bc"
      },
      "outputs": [
        {
          "name": "stdout",
          "output_type": "stream",
          "text": [
            "R² Score: 0.9562747097664349\n"
          ]
        }
      ],
      "source": [
        "r2 = r2_score(y, y_pred)\n",
        "print(f\"R² Score: {r2}\")"
      ]
    },
    {
      "cell_type": "markdown",
      "metadata": {
        "id": "VzSuOrTYo02d"
      },
      "source": [
        "#### **Plot Loss Function**\n"
      ]
    },
    {
      "cell_type": "code",
      "execution_count": null,
      "metadata": {
        "id": "gdCLPx1xo02d",
        "outputId": "d9c84422-6434-479c-ae8f-0f0f41baead8"
      },
      "outputs": [
        {
          "data": {
            "image/png": "[encoded data removed]",
            "text/plain": [
              "<Figure size 2000x800 with 1 Axes>"
            ]
          },
          "metadata": {},
          "output_type": "display_data"
        }
      ],
      "source": [
        "plt.figure(figsize=(20, 8))\n",
        "plt.plot(loss, \".-r\")\n",
        "plt.title(\"Loss vs. Iterations\")\n",
        "plt.xlabel(f\"Iterations: {len(loss)}\")\n",
        "plt.ylabel(\"Loss\")\n",
        "plt.show()"
      ]
    }
  ],
  "metadata": {
    "kernelspec": {
      "display_name": "Python 3 (ipykernel)",
      "language": "python",
      "name": "python3"
    },
    "language_info": {
      "codemirror_mode": {
        "name": "ipython",
        "version": 3
      },
      "file_extension": ".py",
      "mimetype": "text/x-python",
      "name": "python",
      "nbconvert_exporter": "python",
      "pygments_lexer": "ipython3",
      "version": "3.12.4"
    },
    "colab": {
      "provenance": []
    }
  },
  "nbformat": 4,
  "nbformat_minor": 0
}